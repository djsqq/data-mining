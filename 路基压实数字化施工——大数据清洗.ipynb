{
 "cells": [
  {
   "cell_type": "markdown",
   "id": "f3ce111e",
   "metadata": {},
   "source": [
    "路基压实数字化施工——大数据清洗"
   ]
  },
  {
   "cell_type": "markdown",
   "id": "947d7c60",
   "metadata": {},
   "source": [
    "①数据简单的可视化"
   ]
  },
  {
   "cell_type": "code",
   "execution_count": null,
   "id": "50b22593",
   "metadata": {},
   "outputs": [],
   "source": []
  },
  {
   "cell_type": "raw",
   "id": "b4a775a6",
   "metadata": {},
   "source": [
    "②数据特征分析"
   ]
  },
  {
   "cell_type": "code",
   "execution_count": null,
   "id": "a20e5f50",
   "metadata": {},
   "outputs": [],
   "source": []
  },
  {
   "cell_type": "markdown",
   "id": "4be11944",
   "metadata": {},
   "source": [
    "③GPS时间戳转化为日期时间"
   ]
  },
  {
   "cell_type": "code",
   "execution_count": null,
   "id": "d1aaa3f3",
   "metadata": {},
   "outputs": [],
   "source": []
  },
  {
   "cell_type": "markdown",
   "id": "bf4a42b7",
   "metadata": {},
   "source": [
    "④依据评价对数据分类（T检验、卡方检验）"
   ]
  },
  {
   "cell_type": "code",
   "execution_count": null,
   "id": "60e18634",
   "metadata": {},
   "outputs": [],
   "source": []
  },
  {
   "cell_type": "markdown",
   "id": "3d528a03",
   "metadata": {},
   "source": [
    "⑤汇总需要清洗的数据类别方便下一步工作"
   ]
  },
  {
   "cell_type": "code",
   "execution_count": null,
   "id": "0fcbd203",
   "metadata": {},
   "outputs": [],
   "source": []
  }
 ],
 "metadata": {
  "kernelspec": {
   "display_name": "Python 3 (ipykernel)",
   "language": "python",
   "name": "python3"
  },
  "language_info": {
   "codemirror_mode": {
    "name": "ipython",
    "version": 3
   },
   "file_extension": ".py",
   "mimetype": "text/x-python",
   "name": "python",
   "nbconvert_exporter": "python",
   "pygments_lexer": "ipython3",
   "version": "3.9.7"
  }
 },
 "nbformat": 4,
 "nbformat_minor": 5
}
